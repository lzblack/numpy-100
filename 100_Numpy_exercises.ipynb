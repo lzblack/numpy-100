{
 "cells": [
  {
   "cell_type": "markdown",
   "id": "48cea37f",
   "metadata": {},
   "source": [
    "# 100 numpy exercises\n",
    "\n",
    "This is a collection of exercises that have been collected in the numpy mailing list, on stack overflow\n",
    "and in the numpy documentation. The goal of this collection is to offer a quick reference for both old\n",
    "and new users but also to provide a set of exercises for those who teach.\n",
    "\n",
    "\n",
    "If you find an error or think you've a better way to solve some of them, feel\n",
    "free to open an issue at <https://github.com/rougier/numpy-100>."
   ]
  },
  {
   "cell_type": "markdown",
   "id": "28627471",
   "metadata": {},
   "source": [
    "File automatically generated. See the documentation to update questions/answers/hints programmatically."
   ]
  },
  {
   "cell_type": "markdown",
   "id": "dabe7929",
   "metadata": {},
   "source": [
    "Run the `initialise.py` module, then for each question you can query the\n",
    "answer or an hint with `hint(n)` or `answer(n)` for `n` question number."
   ]
  },
  {
   "cell_type": "code",
   "execution_count": 1,
   "id": "2fb62ac2",
   "metadata": {},
   "outputs": [],
   "source": [
    "# %run initialise.py"
   ]
  },
  {
   "cell_type": "markdown",
   "id": "ca408f40",
   "metadata": {},
   "source": [
    "#### 1. Import the numpy package under the name `np` (★☆☆)"
   ]
  },
  {
   "cell_type": "code",
   "execution_count": 2,
   "id": "f7f76f89",
   "metadata": {},
   "outputs": [],
   "source": [
    "import numpy as np"
   ]
  },
  {
   "cell_type": "markdown",
   "id": "51c1faca",
   "metadata": {},
   "source": [
    "#### 2. Print the numpy version and the configuration (★☆☆)"
   ]
  },
  {
   "cell_type": "code",
   "execution_count": 3,
   "id": "32206d2d",
   "metadata": {},
   "outputs": [
    {
     "name": "stdout",
     "output_type": "stream",
     "text": [
      "1.26.4\n",
      "Build Dependencies:\n",
      "  blas:\n",
      "    detection method: pkgconfig\n",
      "    found: true\n",
      "    include directory: C:/Users/zli/miniconda3/envs/data/Library/include\n",
      "    lib directory: C:/Users/zli/miniconda3/envs/data/Library/lib\n",
      "    name: mkl-sdl\n",
      "    openblas configuration: unknown\n",
      "    pc file directory: C:\\b\\abs_c1ywpu18ar\\croot\\numpy_and_numpy_base_1708638681471\\_h_env\\Library\\lib\\pkgconfig\n",
      "    version: '2023.1'\n",
      "  lapack:\n",
      "    detection method: internal\n",
      "    found: true\n",
      "    include directory: unknown\n",
      "    lib directory: unknown\n",
      "    name: dep1583119523984\n",
      "    openblas configuration: unknown\n",
      "    pc file directory: unknown\n",
      "    version: 1.26.4\n",
      "Compilers:\n",
      "  c:\n",
      "    commands: cl.exe\n",
      "    linker: link\n",
      "    name: msvc\n",
      "    version: 19.29.30154\n",
      "  c++:\n",
      "    commands: cl.exe\n",
      "    linker: link\n",
      "    name: msvc\n",
      "    version: 19.29.30154\n",
      "  cython:\n",
      "    commands: cython\n",
      "    linker: cython\n",
      "    name: cython\n",
      "    version: 3.0.8\n",
      "Machine Information:\n",
      "  build:\n",
      "    cpu: x86_64\n",
      "    endian: little\n",
      "    family: x86_64\n",
      "    system: windows\n",
      "  host:\n",
      "    cpu: x86_64\n",
      "    endian: little\n",
      "    family: x86_64\n",
      "    system: windows\n",
      "Python Information:\n",
      "  path: C:\\b\\abs_c1ywpu18ar\\croot\\numpy_and_numpy_base_1708638681471\\_h_env\\python.exe\n",
      "  version: '3.12'\n",
      "SIMD Extensions:\n",
      "  baseline:\n",
      "  - SSE\n",
      "  - SSE2\n",
      "  - SSE3\n",
      "  found:\n",
      "  - SSSE3\n",
      "  - SSE41\n",
      "  - POPCNT\n",
      "  - SSE42\n",
      "  - AVX\n",
      "  - F16C\n",
      "  - FMA3\n",
      "  - AVX2\n",
      "  not found:\n",
      "  - AVX512F\n",
      "  - AVX512CD\n",
      "  - AVX512_SKX\n",
      "  - AVX512_CLX\n",
      "  - AVX512_CNL\n",
      "  - AVX512_ICL\n",
      "\n",
      "None\n"
     ]
    }
   ],
   "source": [
    "print(np.__version__)\n",
    "print(np.show_config())"
   ]
  },
  {
   "cell_type": "markdown",
   "id": "2c442589",
   "metadata": {},
   "source": [
    "#### 3. Create a null vector of size 10 (★☆☆)"
   ]
  },
  {
   "cell_type": "code",
   "execution_count": 4,
   "id": "28a9a43e",
   "metadata": {},
   "outputs": [
    {
     "data": {
      "text/plain": [
       "array([0., 0., 0., 0., 0., 0., 0., 0., 0., 0.])"
      ]
     },
     "execution_count": 4,
     "metadata": {},
     "output_type": "execute_result"
    }
   ],
   "source": [
    "np.zeros(10)"
   ]
  },
  {
   "cell_type": "markdown",
   "id": "b4813146",
   "metadata": {},
   "source": [
    "#### 4. How to find the memory size of any array (★☆☆)"
   ]
  },
  {
   "cell_type": "code",
   "execution_count": 5,
   "id": "67a243da",
   "metadata": {},
   "outputs": [
    {
     "name": "stdout",
     "output_type": "stream",
     "text": [
      "Memory size comparison for different dtypes (array shape: (10, 10)):\n",
      "----------------------------------------------------------------------\n",
      "Dtype                          Item Size (bytes)    Total Size (bytes)  \n",
      "----------------------------------------------------------------------\n",
      "<class 'numpy.bool_'>          1                    100                 \n",
      "<class 'numpy.int8'>           1                    100                 \n",
      "<class 'numpy.int16'>          2                    200                 \n",
      "<class 'numpy.int32'>          4                    400                 \n",
      "<class 'numpy.int64'>          8                    800                 \n",
      "<class 'numpy.float16'>        2                    200                 \n",
      "<class 'numpy.float32'>        4                    400                 \n",
      "<class 'numpy.float64'>        8                    800                 \n",
      "<class 'numpy.complex64'>      8                    800                 \n",
      "<class 'numpy.complex128'>     16                   1600                \n"
     ]
    }
   ],
   "source": [
    "# Showing memory size of arrays with different dtypes\n",
    "dtypes = [\n",
    "    np.bool_,\n",
    "    np.int8,\n",
    "    np.int16,\n",
    "    np.int32,\n",
    "    np.int64,\n",
    "    np.float16,\n",
    "    np.float32,\n",
    "    np.float64,\n",
    "    np.complex64,\n",
    "    np.complex128,\n",
    "]\n",
    "\n",
    "print(\"Memory size comparison for different dtypes (array shape: (10, 10)):\")\n",
    "print(\"-\" * 70)\n",
    "print(f\"{'Dtype':<30} {'Item Size (bytes)':<20} {'Total Size (bytes)':<20}\")\n",
    "print(\"-\" * 70)\n",
    "\n",
    "for dtype in dtypes:\n",
    "    arr = np.zeros((10, 10), dtype=dtype)\n",
    "    print(f\"{str(dtype):<30} {arr.itemsize:<20} {arr.nbytes:<20}\")"
   ]
  },
  {
   "cell_type": "markdown",
   "id": "0ef881e5",
   "metadata": {},
   "source": [
    "#### 5. How to get the documentation of the numpy add function from the command line? (★☆☆)"
   ]
  },
  {
   "cell_type": "code",
   "execution_count": 6,
   "id": "ba65ad70",
   "metadata": {},
   "outputs": [
    {
     "name": "stdout",
     "output_type": "stream",
     "text": [
      "add(x1, x2, /, out=None, *, where=True, casting='same_kind', order='K', dtype=None, subok=True[, signature, extobj])\n",
      "\n",
      "Add arguments element-wise.\n",
      "\n",
      "Parameters\n",
      "----------\n",
      "x1, x2 : array_like\n",
      "    The arrays to be added.\n",
      "    If ``x1.shape != x2.shape``, they must be broadcastable to a common\n",
      "    shape (which becomes the shape of the output).\n",
      "out : ndarray, None, or tuple of ndarray and None, optional\n",
      "    A location into which the result is stored. If provided, it must have\n",
      "    a shape that the inputs broadcast to. If not provided or None,\n",
      "    a freshly-allocated array is returned. A tuple (possible only as a\n",
      "    keyword argument) must have length equal to the number of outputs.\n",
      "where : array_like, optional\n",
      "    This condition is broadcast over the input. At locations where the\n",
      "    condition is True, the `out` array will be set to the ufunc result.\n",
      "    Elsewhere, the `out` array will retain its original value.\n",
      "    Note that if an uninitialized `out` array is created via the default\n",
      "    ``out=None``, locations within it where the condition is False will\n",
      "    remain uninitialized.\n",
      "**kwargs\n",
      "    For other keyword-only arguments, see the\n",
      "    :ref:`ufunc docs <ufuncs.kwargs>`.\n",
      "\n",
      "Returns\n",
      "-------\n",
      "add : ndarray or scalar\n",
      "    The sum of `x1` and `x2`, element-wise.\n",
      "    This is a scalar if both `x1` and `x2` are scalars.\n",
      "\n",
      "Notes\n",
      "-----\n",
      "Equivalent to `x1` + `x2` in terms of array broadcasting.\n",
      "\n",
      "Examples\n",
      "--------\n",
      ">>> np.add(1.0, 4.0)\n",
      "5.0\n",
      ">>> x1 = np.arange(9.0).reshape((3, 3))\n",
      ">>> x2 = np.arange(3.0)\n",
      ">>> np.add(x1, x2)\n",
      "array([[  0.,   2.,   4.],\n",
      "       [  3.,   5.,   7.],\n",
      "       [  6.,   8.,  10.]])\n",
      "\n",
      "The ``+`` operator can be used as a shorthand for ``np.add`` on ndarrays.\n",
      "\n",
      ">>> x1 = np.arange(9.0).reshape((3, 3))\n",
      ">>> x2 = np.arange(3.0)\n",
      ">>> x1 + x2\n",
      "array([[ 0.,  2.,  4.],\n",
      "       [ 3.,  5.,  7.],\n",
      "       [ 6.,  8., 10.]])\n"
     ]
    }
   ],
   "source": [
    "np.info(np.add)"
   ]
  },
  {
   "cell_type": "markdown",
   "id": "a9b9ac9e",
   "metadata": {},
   "source": [
    "#### 6. Create a null vector of size 10 but the fifth value which is 1 (★☆☆)"
   ]
  },
  {
   "cell_type": "code",
   "execution_count": 7,
   "id": "2dc5829a",
   "metadata": {},
   "outputs": [
    {
     "name": "stdout",
     "output_type": "stream",
     "text": [
      "[0. 0. 0. 0. 1. 0. 0. 0. 0. 0.]\n"
     ]
    }
   ],
   "source": [
    "a = np.zeros(10)\n",
    "a[4] = 1\n",
    "print(a)"
   ]
  },
  {
   "cell_type": "markdown",
   "id": "3d764638",
   "metadata": {},
   "source": [
    "#### 7. Create a vector with values ranging from 10 to 49 (★☆☆)"
   ]
  },
  {
   "cell_type": "code",
   "execution_count": 8,
   "id": "0f18f0c7",
   "metadata": {},
   "outputs": [
    {
     "data": {
      "text/plain": [
       "array([10, 11, 12, 13, 14, 15, 16, 17, 18, 19, 20, 21, 22, 23, 24, 25, 26,\n",
       "       27, 28, 29, 30, 31, 32, 33, 34, 35, 36, 37, 38, 39, 40, 41, 42, 43,\n",
       "       44, 45, 46, 47, 48, 49])"
      ]
     },
     "execution_count": 8,
     "metadata": {},
     "output_type": "execute_result"
    }
   ],
   "source": [
    "a = np.arange(10, 50)\n",
    "a"
   ]
  },
  {
   "cell_type": "markdown",
   "id": "8e42364d",
   "metadata": {},
   "source": [
    "#### 8. Reverse a vector (first element becomes last) (★☆☆)"
   ]
  },
  {
   "cell_type": "code",
   "execution_count": 9,
   "id": "cadb02bb",
   "metadata": {},
   "outputs": [
    {
     "name": "stdout",
     "output_type": "stream",
     "text": [
      "Original array a: [0 1 2 3 4]\n",
      "Reversed using slicing b = a[::-1]: [4 3 2 1 0]\n",
      "Do arrays share memory? True\n",
      "This means slicing creates a view, not a copy\n",
      "\n",
      "After modifying b[0] = 100\n",
      "a: [100   3   2   1   0]\n",
      "b: [100   3   2   1   0]\n",
      "Modifying b affects a because they share underlying data\n",
      "\n",
      "--------------------------------------------------\n",
      "Original array a: [0 1 2 3 4]\n",
      "Reversed using np.flip(a): [4 3 2 1 0]\n",
      "Do arrays share memory? True\n",
      "This means np.flip creates a view, not a copy\n",
      "\n",
      "After modifying b[0] = 100\n",
      "b: [100   3   2   1   0]\n",
      "a: [100   3   2   1   0]\n",
      "Modifying b affects a because they share memory\n"
     ]
    }
   ],
   "source": [
    "# Using slicing for reversal\n",
    "a = np.arange(5)\n",
    "print(\"Original array a:\", a)\n",
    "a = a[::-1]\n",
    "print(\"Reversed using slicing b = a[::-1]:\", a)\n",
    "print(\"Do arrays share memory?\", np.shares_memory(a, a))\n",
    "print(\"This means slicing creates a view, not a copy\")\n",
    "\n",
    "a[0] = 100\n",
    "print(\"\\nAfter modifying b[0] = 100\")\n",
    "print(\"a:\", a)\n",
    "print(\"b:\", a)\n",
    "print(\"Modifying b affects a because they share underlying data\")\n",
    "\n",
    "# Using np.flip for reversal\n",
    "print(\"\\n\" + \"-\" * 50)\n",
    "a = np.arange(5)\n",
    "print(\"Original array a:\", a)\n",
    "a = np.flip(a)\n",
    "print(\"Reversed using np.flip(a):\", a)\n",
    "print(\"Do arrays share memory?\", np.shares_memory(a, a))\n",
    "print(\"This means np.flip creates a view, not a copy\")\n",
    "\n",
    "a[0] = 100\n",
    "print(\"\\nAfter modifying b[0] = 100\")\n",
    "print(\"b:\", a)\n",
    "print(\"a:\", a)\n",
    "print(\"Modifying b affects a because they share memory\")"
   ]
  },
  {
   "cell_type": "markdown",
   "id": "6f7a850c",
   "metadata": {},
   "source": [
    "#### 9. Create a 3x3 matrix with values ranging from 0 to 8 (★☆☆)"
   ]
  },
  {
   "cell_type": "code",
   "execution_count": 10,
   "id": "fe703f66",
   "metadata": {},
   "outputs": [
    {
     "data": {
      "text/plain": [
       "array([[0, 1, 2],\n",
       "       [3, 4, 5],\n",
       "       [6, 7, 8]])"
      ]
     },
     "execution_count": 10,
     "metadata": {},
     "output_type": "execute_result"
    }
   ],
   "source": [
    "a = np.arange(9).reshape(3, 3)\n",
    "a"
   ]
  },
  {
   "cell_type": "markdown",
   "id": "5f124c82",
   "metadata": {},
   "source": [
    "#### 10. Find indices of non-zero elements from [1,2,0,0,4,0] (★☆☆)"
   ]
  },
  {
   "cell_type": "code",
   "execution_count": 11,
   "id": "7297f7f0",
   "metadata": {},
   "outputs": [
    {
     "name": "stdout",
     "output_type": "stream",
     "text": [
      "Indices of non-zero elements in a: (array([0, 1, 4], dtype=int64),)\n"
     ]
    }
   ],
   "source": [
    "a = np.array([1, 2, 0, 0, 4, 0])\n",
    "a = np.nonzero(a)\n",
    "print(\"Indices of non-zero elements in a:\", a)"
   ]
  },
  {
   "cell_type": "markdown",
   "id": "45a44e90",
   "metadata": {},
   "source": [
    "#### 11. Create a 3x3 identity matrix (★☆☆)"
   ]
  },
  {
   "cell_type": "code",
   "execution_count": 12,
   "id": "853db3b8",
   "metadata": {},
   "outputs": [
    {
     "name": "stdout",
     "output_type": "stream",
     "text": [
      "[[1. 0. 0.]\n",
      " [0. 1. 0.]\n",
      " [0. 0. 1.]]\n",
      "[[1. 0. 0.]\n",
      " [0. 1. 0.]\n",
      " [0. 0. 1.]]\n",
      "[[1. 0. 0. 0.]\n",
      " [0. 1. 0. 0.]]\n",
      "[[0. 1. 0.]\n",
      " [0. 0. 1.]\n",
      " [0. 0. 0.]]\n"
     ]
    }
   ],
   "source": [
    "a = np.eye(3)\n",
    "print(a)\n",
    "\n",
    "a = np.identity(3)\n",
    "print(a)\n",
    "\n",
    "c = np.eye(2, 4)  # Cannot use np.identity for non-square matrices\n",
    "print(c)\n",
    "\n",
    "d = np.eye(3, k=1)  # k=1 means diagonal above the main diagonal\n",
    "print(d)"
   ]
  },
  {
   "cell_type": "markdown",
   "id": "1fe8cfb7",
   "metadata": {},
   "source": [
    "#### 12. Create a 3x3x3 array with random values (★☆☆)"
   ]
  },
  {
   "cell_type": "code",
   "execution_count": 13,
   "id": "1a07e1c1",
   "metadata": {},
   "outputs": [
    {
     "name": "stdout",
     "output_type": "stream",
     "text": [
      "[[[0.77395605 0.43887844 0.85859792]\n",
      "  [0.69736803 0.09417735 0.97562235]\n",
      "  [0.7611397  0.78606431 0.12811363]]\n",
      "\n",
      " [[0.45038594 0.37079802 0.92676499]\n",
      "  [0.64386512 0.82276161 0.4434142 ]\n",
      "  [0.22723872 0.55458479 0.06381726]]\n",
      "\n",
      " [[0.82763117 0.6316644  0.75808774]\n",
      "  [0.35452597 0.97069802 0.89312112]\n",
      "  [0.7783835  0.19463871 0.466721  ]]]\n"
     ]
    }
   ],
   "source": [
    "# Using numpy.random.default_rng() is preferred over np.random.random() because:\n",
    "# 1. It uses the more modern PCG64 bit generator which has better statistical properties\n",
    "# 2. It provides a more consistent and object-oriented API\n",
    "# 3. It allows for better reproducibility by explicitly setting seeds\n",
    "# 4. It's the recommended approach in newer numpy versions (since 1.17)\n",
    "\n",
    "rng = np.random.default_rng(\n",
    "    seed=42\n",
    ")  # Creating a generator with fixed seed for reproducibility\n",
    "a = rng.random((3, 3, 3))  # Generate 3x3x3 array with random values between 0 and 1\n",
    "print(a)\n",
    "\n",
    "# The older np.random.random() functions are based on the legacy Mersenne Twister generator\n",
    "# and will eventually be deprecated in favor of the new API"
   ]
  },
  {
   "cell_type": "markdown",
   "id": "433f2399",
   "metadata": {},
   "source": [
    "#### 13. Create a 10x10 array with random values and find the minimum and maximum values (★☆☆)"
   ]
  },
  {
   "cell_type": "code",
   "execution_count": 14,
   "id": "69f58809",
   "metadata": {},
   "outputs": [
    {
     "name": "stdout",
     "output_type": "stream",
     "text": [
      "[[0.77395605 0.43887844 0.85859792 0.69736803 0.09417735 0.97562235\n",
      "  0.7611397  0.78606431 0.12811363 0.45038594]\n",
      " [0.37079802 0.92676499 0.64386512 0.82276161 0.4434142  0.22723872\n",
      "  0.55458479 0.06381726 0.82763117 0.6316644 ]\n",
      " [0.75808774 0.35452597 0.97069802 0.89312112 0.7783835  0.19463871\n",
      "  0.466721   0.04380377 0.15428949 0.68304895]\n",
      " [0.74476216 0.96750973 0.32582536 0.37045971 0.46955581 0.18947136\n",
      "  0.12992151 0.47570493 0.22690935 0.66981399]\n",
      " [0.43715192 0.8326782  0.7002651  0.31236664 0.8322598  0.80476436\n",
      "  0.38747838 0.2883281  0.6824955  0.13975248]\n",
      " [0.1999082  0.00736227 0.78692438 0.66485086 0.70516538 0.78072903\n",
      "  0.45891578 0.5687412  0.139797   0.11453007]\n",
      " [0.66840296 0.47109621 0.56523611 0.76499886 0.63471832 0.5535794\n",
      "  0.55920716 0.3039501  0.03081783 0.43671739]\n",
      " [0.21458467 0.40852864 0.85340307 0.23393949 0.05830274 0.28138389\n",
      "  0.29359376 0.66191651 0.55703215 0.78389821]\n",
      " [0.66431354 0.40638686 0.81402038 0.16697292 0.02271207 0.09004786\n",
      "  0.72235935 0.46187723 0.16127178 0.50104478]\n",
      " [0.1523121  0.69632038 0.44615628 0.38102123 0.30151209 0.63028259\n",
      "  0.36181261 0.08764992 0.1180059  0.96189766]]\n",
      "Minimum value: 0.007362269751005512 at index: (5, 1)\n",
      "Maximum value: 0.9756223516367559 at index: (0, 5)\n"
     ]
    }
   ],
   "source": [
    "rng = np.random.default_rng(seed=42)\n",
    "\n",
    "a = rng.random((10, 10))\n",
    "print(a)\n",
    "\n",
    "# Find min and max values, and indices of these values (in the matrix)\n",
    "min_val = a.min()\n",
    "min_index = a.argmin()\n",
    "min_row, min_col = np.unravel_index(min_index, a.shape)\n",
    "print(f\"Minimum value: {min_val} at index: ({min_row}, {min_col})\")\n",
    "\n",
    "max_val = a.max()\n",
    "max_index = a.argmax()\n",
    "max_row, max_col = np.unravel_index(max_index, a.shape)\n",
    "print(f\"Maximum value: {max_val} at index: ({max_row}, {max_col})\")"
   ]
  },
  {
   "cell_type": "markdown",
   "id": "93f3b2c7",
   "metadata": {},
   "source": [
    "#### 14. Create a random vector of size 30 and find the mean value (★☆☆)"
   ]
  },
  {
   "cell_type": "code",
   "execution_count": 15,
   "id": "e347400f",
   "metadata": {},
   "outputs": [
    {
     "name": "stdout",
     "output_type": "stream",
     "text": [
      "[0.08925092 0.773956   0.6545715  0.43887842 0.43301523 0.8585979\n",
      " 0.08594561 0.697368   0.20146948 0.09417731 0.52647895 0.9756223\n",
      " 0.73575234 0.7611397  0.71747726 0.78606427 0.51322657 0.12811363\n",
      " 0.8397482  0.45038593 0.5003519  0.370798   0.1825496  0.92676497\n",
      " 0.78156745 0.6438651  0.40241432 0.8227616  0.5454291  0.44341415]\n",
      "0.54603857\n",
      "float32\n",
      "0.54603857\n",
      "float32\n"
     ]
    }
   ],
   "source": [
    "rng = np.random.default_rng(seed=42)\n",
    "\n",
    "a = rng.random(30, dtype=np.float32)\n",
    "print(a)\n",
    "\n",
    "b = a.mean()\n",
    "print(b)\n",
    "print(b.dtype)\n",
    "\n",
    "c = np.mean(a)\n",
    "print(c)\n",
    "print(c.dtype)"
   ]
  },
  {
   "cell_type": "markdown",
   "id": "4eaabb90",
   "metadata": {},
   "source": [
    "#### 15. Create a 2d array with 1 on the border and 0 inside (★☆☆)"
   ]
  },
  {
   "cell_type": "code",
   "execution_count": 16,
   "id": "f8716a45",
   "metadata": {},
   "outputs": [
    {
     "name": "stdout",
     "output_type": "stream",
     "text": [
      "[[1. 1. 1. 1. 1.]\n",
      " [1. 1. 1. 1. 1.]\n",
      " [1. 1. 1. 1. 1.]\n",
      " [1. 1. 1. 1. 1.]]\n",
      "[[1. 1. 1. 1. 1.]\n",
      " [1. 0. 0. 0. 1.]\n",
      " [1. 0. 0. 0. 1.]\n",
      " [1. 1. 1. 1. 1.]]\n"
     ]
    }
   ],
   "source": [
    "a = np.ones((4, 5))\n",
    "print(a)\n",
    "\n",
    "a[1:-1, 1:-1] = 0\n",
    "print(a)"
   ]
  },
  {
   "cell_type": "markdown",
   "id": "cdbf9135",
   "metadata": {},
   "source": [
    "#### 16. How to add a border (filled with 0's) around an existing array? (★☆☆)"
   ]
  },
  {
   "cell_type": "code",
   "execution_count": 17,
   "id": "468f88eb",
   "metadata": {},
   "outputs": [
    {
     "name": "stdout",
     "output_type": "stream",
     "text": [
      "[[1. 1. 1.]\n",
      " [1. 1. 1.]]\n",
      "[[0. 0. 0. 0. 0.]\n",
      " [0. 1. 1. 1. 0.]\n",
      " [0. 1. 1. 1. 0.]\n",
      " [0. 0. 0. 0. 0.]]\n",
      "[[0. 0. 0. 0. 0.]\n",
      " [0. 1. 1. 1. 0.]\n",
      " [0. 1. 1. 1. 0.]\n",
      " [0. 0. 0. 0. 0.]]\n"
     ]
    }
   ],
   "source": [
    "a = np.ones((2, 3))\n",
    "print(a)\n",
    "\n",
    "b = np.pad(\n",
    "    a,\n",
    "    pad_width=((1, 1), (1, 1)),  # (before, after)\n",
    "    mode=\"constant\",  # Default padding mode\n",
    "    constant_values=0,  # Default constant value for padding\n",
    ")\n",
    "print(b)\n",
    "\n",
    "\n",
    "c = np.pad(a, 1)  # pad_width=1\n",
    "print(c)"
   ]
  },
  {
   "cell_type": "markdown",
   "id": "982935fd",
   "metadata": {},
   "source": [
    "#### 17. What is the result of the following expression? (★☆☆)\n",
    "```python\n",
    "0 * np.nan\n",
    "np.nan == np.nan\n",
    "np.inf > np.nan\n",
    "np.nan - np.nan\n",
    "np.nan in set([np.nan])\n",
    "0.3 == 3 * 0.1\n",
    "```"
   ]
  },
  {
   "cell_type": "code",
   "execution_count": 18,
   "id": "d1e243b2",
   "metadata": {},
   "outputs": [
    {
     "data": {
      "text/plain": [
       "nan"
      ]
     },
     "execution_count": 18,
     "metadata": {},
     "output_type": "execute_result"
    }
   ],
   "source": [
    "0 * np.nan  # This will return nan, as any operation with nan results in nan"
   ]
  },
  {
   "cell_type": "code",
   "execution_count": 19,
   "id": "9e116c04",
   "metadata": {},
   "outputs": [
    {
     "data": {
      "text/plain": [
       "False"
      ]
     },
     "execution_count": 19,
     "metadata": {},
     "output_type": "execute_result"
    }
   ],
   "source": [
    "np.nan == np.nan  # This will return False, as NaN is not equal to itself by definition"
   ]
  },
  {
   "cell_type": "code",
   "execution_count": 20,
   "id": "4cd7b9b5",
   "metadata": {},
   "outputs": [
    {
     "data": {
      "text/plain": [
       "False"
      ]
     },
     "execution_count": 20,
     "metadata": {},
     "output_type": "execute_result"
    }
   ],
   "source": [
    "np.inf > np.nan  # This will return False, as any comparison with NaN returns False"
   ]
  },
  {
   "cell_type": "code",
   "execution_count": 21,
   "id": "6e1ae11f",
   "metadata": {},
   "outputs": [
    {
     "data": {
      "text/plain": [
       "nan"
      ]
     },
     "execution_count": 21,
     "metadata": {},
     "output_type": "execute_result"
    }
   ],
   "source": [
    "np.nan - np.nan  # This will return nan, as any operation with nan results in nan"
   ]
  },
  {
   "cell_type": "code",
   "execution_count": 22,
   "id": "e9e265b4",
   "metadata": {},
   "outputs": [
    {
     "name": "stdout",
     "output_type": "stream",
     "text": [
      "98938749347\n",
      "True\n"
     ]
    },
    {
     "data": {
      "text/plain": [
       "True"
      ]
     },
     "execution_count": 22,
     "metadata": {},
     "output_type": "execute_result"
    }
   ],
   "source": [
    "print(hash(np.nan))\n",
    "\n",
    "print(hash(np.nan) == hash(np.nan))\n",
    "\n",
    "np.nan in set(\n",
    "    [np.nan]\n",
    ")  # This will return True, as the hash of NaN is consistent across calls"
   ]
  },
  {
   "cell_type": "code",
   "execution_count": 23,
   "id": "3f76dd98",
   "metadata": {},
   "outputs": [
    {
     "data": {
      "text/plain": [
       "False"
      ]
     },
     "execution_count": 23,
     "metadata": {},
     "output_type": "execute_result"
    }
   ],
   "source": [
    "0.3 == 3 * 0.1  # This will return False due to floating-point precision issues"
   ]
  },
  {
   "cell_type": "markdown",
   "id": "0461d51d",
   "metadata": {},
   "source": [
    "#### 18. Create a 5x5 matrix with values 1,2,3,4 just below the diagonal (★☆☆)"
   ]
  },
  {
   "cell_type": "code",
   "execution_count": 24,
   "id": "e02f29da",
   "metadata": {},
   "outputs": [
    {
     "name": "stdout",
     "output_type": "stream",
     "text": [
      "[[0 0 0 0 0]\n",
      " [1 0 0 0 0]\n",
      " [0 2 0 0 0]\n",
      " [0 0 3 0 0]\n",
      " [0 0 0 4 0]]\n"
     ]
    }
   ],
   "source": [
    "a = np.diag(np.arange(1, 5), k=-1)\n",
    "print(a)"
   ]
  },
  {
   "cell_type": "markdown",
   "id": "2dac6f2d",
   "metadata": {},
   "source": [
    "#### 19. Create a 8x8 matrix and fill it with a checkerboard pattern (★☆☆)"
   ]
  },
  {
   "cell_type": "code",
   "execution_count": 25,
   "id": "415afcc6",
   "metadata": {},
   "outputs": [
    {
     "name": "stdout",
     "output_type": "stream",
     "text": [
      "[[1. 0. 1. 0. 1. 0. 1. 0.]\n",
      " [0. 1. 0. 1. 0. 1. 0. 1.]\n",
      " [1. 0. 1. 0. 1. 0. 1. 0.]\n",
      " [0. 1. 0. 1. 0. 1. 0. 1.]\n",
      " [1. 0. 1. 0. 1. 0. 1. 0.]\n",
      " [0. 1. 0. 1. 0. 1. 0. 1.]\n",
      " [1. 0. 1. 0. 1. 0. 1. 0.]\n",
      " [0. 1. 0. 1. 0. 1. 0. 1.]]\n"
     ]
    },
    {
     "data": {
      "image/png": "[encoded data removed]",
      "text/plain": [
       "<Figure size 400x400 with 1 Axes>"
      ]
     },
     "metadata": {},
     "output_type": "display_data"
    }
   ],
   "source": [
    "a = np.zeros((8, 8))\n",
    "a[::2, ::2] = 1\n",
    "a[1::2, 1::2] = 1\n",
    "print(a)\n",
    "\n",
    "import matplotlib.pyplot as plt\n",
    "\n",
    "plt.figure(figsize=(4, 4))\n",
    "plt.imshow(a, cmap=\"gray\", interpolation=\"nearest\")\n",
    "\n",
    "# Add chess notation (letters for columns, numbers for rows)\n",
    "letters = \"ABCDEFGH\"\n",
    "plt.xticks(range(8), letters)\n",
    "plt.yticks(range(8), range(8, 0, -1))  # Reverse order for rows to match chess notation\n",
    "\n",
    "# Remove the tick marks while keeping the labels\n",
    "plt.tick_params(axis=\"both\", which=\"both\", length=0)\n",
    "\n",
    "plt.title(\"Chessboard\")\n",
    "plt.grid(False)  # Turn off the grid for cleaner appearance\n",
    "plt.show()"
   ]
  },
  {
   "cell_type": "markdown",
   "id": "1ab66728",
   "metadata": {},
   "source": [
    "#### 20. Consider a (6,7,8) shape array, what is the index (x,y,z) of the 100th element? (★☆☆)"
   ]
  },
  {
   "cell_type": "code",
   "execution_count": 26,
   "id": "18880260",
   "metadata": {},
   "outputs": [
    {
     "name": "stdout",
     "output_type": "stream",
     "text": [
      "(1, 5, 3)\n",
      "1 5 3\n"
     ]
    }
   ],
   "source": [
    "print(np.unravel_index(99, (6, 7, 8)))\n",
    "\n",
    "a, y = divmod(99, 7 * 8)\n",
    "y, z = divmod(y, 8)\n",
    "print(a, y, z)"
   ]
  },
  {
   "cell_type": "markdown",
   "id": "572b47e5",
   "metadata": {},
   "source": [
    "#### 21. Create a checkerboard 8x8 matrix using the tile function (★☆☆)"
   ]
  },
  {
   "cell_type": "code",
   "execution_count": 27,
   "id": "ed5eb1ea",
   "metadata": {},
   "outputs": [
    {
     "name": "stdout",
     "output_type": "stream",
     "text": [
      "[[1 0 1 0 1 0 1 0]\n",
      " [0 1 0 1 0 1 0 1]\n",
      " [1 0 1 0 1 0 1 0]\n",
      " [0 1 0 1 0 1 0 1]\n",
      " [1 0 1 0 1 0 1 0]\n",
      " [0 1 0 1 0 1 0 1]\n",
      " [1 0 1 0 1 0 1 0]\n",
      " [0 1 0 1 0 1 0 1]]\n"
     ]
    },
    {
     "data": {
      "image/png": "[encoded data removed]",
      "text/plain": [
       "<Figure size 400x400 with 1 Axes>"
      ]
     },
     "metadata": {},
     "output_type": "display_data"
    }
   ],
   "source": [
    "import numpy as np\n",
    "\n",
    "a = np.tile([[1, 0], [0, 1]], (4, 4))\n",
    "print(a)\n",
    "\n",
    "\n",
    "import matplotlib.pyplot as plt\n",
    "\n",
    "plt.figure(figsize=(4, 4))\n",
    "plt.imshow(a, cmap=\"gray\", interpolation=\"nearest\")\n",
    "\n",
    "# Add chess notation (letters for columns, numbers for rows)\n",
    "letters = \"ABCDEFGH\"\n",
    "plt.xticks(range(8), letters)\n",
    "plt.yticks(range(8), range(8, 0, -1))  # Reverse order for rows to match chess notation\n",
    "\n",
    "# Remove the tick marks while keeping the labels\n",
    "plt.tick_params(axis=\"both\", which=\"both\", length=0)\n",
    "\n",
    "plt.title(\"Chessboard\")\n",
    "plt.grid(False)  # Turn off the grid for cleaner appearance\n",
    "plt.show()"
   ]
  },
  {
   "cell_type": "markdown",
   "id": "99e5b8ad",
   "metadata": {},
   "source": [
    "#### 22. Normalize a 5x5 random matrix (★☆☆)"
   ]
  },
  {
   "cell_type": "code",
   "execution_count": 28,
   "id": "2ad68a2c",
   "metadata": {},
   "outputs": [
    {
     "name": "stdout",
     "output_type": "stream",
     "text": [
      "[[0.77395605 0.43887844 0.85859792 0.69736803 0.09417735]\n",
      " [0.97562235 0.7611397  0.78606431 0.12811363 0.45038594]\n",
      " [0.37079802 0.92676499 0.64386512 0.82276161 0.4434142 ]\n",
      " [0.22723872 0.55458479 0.06381726 0.82763117 0.6316644 ]\n",
      " [0.75808774 0.35452597 0.97069802 0.89312112 0.7783835 ]]\n",
      "\n",
      "1. Min-max normalization (0-1 scaling):\n",
      "[[0.7788274  0.41133921 0.87165631 0.69483136 0.03329669]\n",
      " [1.         0.76477139 0.79210684 0.07051548 0.42395977]\n",
      " [0.33667367 0.94641688 0.63615335 0.83235371 0.41631369]\n",
      " [0.17922851 0.53823732 0.         0.83769428 0.6227725 ]\n",
      " [0.76142422 0.31882769 0.99459936 0.90951879 0.7836831 ]]\n",
      "\n",
      "2. Z-score normalization (standardization):\n",
      "[[ 0.59894993 -0.61967389  0.90677892  0.32041152 -1.87329678]\n",
      " [ 1.33237812  0.55233893  0.64298573 -1.74987593 -0.57782295]\n",
      " [-0.8672715   1.15469168  0.12582998  0.77644799 -0.60317805]\n",
      " [-1.38937379 -0.19886836 -1.98371159  0.7941578   0.0814579 ]\n",
      " [ 0.54123943 -0.92645037  1.31446912  1.0323343   0.61505186]]\n",
      "\n",
      "3. L2 normalization (vector unit norm):\n",
      "[[0.23157117 0.13131443 0.25689641 0.20865569 0.02817829]\n",
      " [0.29191065 0.22773646 0.23519402 0.03833218 0.13475752]\n",
      " [0.11094446 0.2772923  0.19264738 0.24617402 0.13267155]\n",
      " [0.06799086 0.16593429 0.01909441 0.24763101 0.18899686]\n",
      " [0.2268233  0.10607578 0.29043727 0.26722591 0.23289589]]\n",
      "\n",
      "4. Softmax normalization (row-wise):\n",
      "[[0.23603776 0.16883369 0.25688632 0.21863502 0.11960721]\n",
      " [0.2736592  0.2208317  0.22640501 0.11725779 0.1618463 ]\n",
      " [0.1491574  0.26007475 0.1959911  0.23438515 0.1603916 ]\n",
      " [0.15249039 0.21154709 0.1294999  0.27796467 0.22849795]\n",
      " [0.19724187 0.1317451  0.24396897 0.22575811 0.20128595]]\n",
      "Row sums: [1. 1. 1. 1. 1.]\n"
     ]
    }
   ],
   "source": [
    "rng = np.random.default_rng(seed=42)\n",
    "\n",
    "a = rng.random((5, 5))\n",
    "print(a)\n",
    "\n",
    "\n",
    "# Method 1: Min-max normalization\n",
    "a_min_max = (a - a.min()) / (a.max() - a.min())\n",
    "print(\"\\n1. Min-max normalization (0-1 scaling):\")\n",
    "print(a_min_max)\n",
    "\n",
    "# Method 2: Z-score normalization (standardization)\n",
    "a_zscore = (a - a.mean()) / a.std()\n",
    "print(\"\\n2. Z-score normalization (standardization):\")\n",
    "print(a_zscore)\n",
    "\n",
    "# Method 3: L2 normalization (unit norm)\n",
    "a_l2 = a / np.sqrt(np.sum(a**2))\n",
    "print(\"\\n3. L2 normalization (vector unit norm):\")\n",
    "print(a_l2)\n",
    "\n",
    "\n",
    "# Method 4: Softmax normalization (row-wise)\n",
    "def softmax(x):\n",
    "    exp_x = np.exp(\n",
    "        x - np.max(x, axis=1, keepdims=True)\n",
    "    )  # Subtract max for numerical stability\n",
    "    return exp_x / np.sum(exp_x, axis=1, keepdims=True)\n",
    "\n",
    "\n",
    "a_softmax = softmax(a)\n",
    "print(\"\\n4. Softmax normalization (row-wise):\")\n",
    "print(a_softmax)\n",
    "print(\"Row sums:\", a_softmax.sum(axis=1))"
   ]
  },
  {
   "cell_type": "code",
   "execution_count": 29,
   "id": "48eda015",
   "metadata": {},
   "outputs": [
    {
     "data": {
      "image/png": "[encoded data removed]",
      "text/plain": [
       "<Figure size 400x300 with 1 Axes>"
      ]
     },
     "metadata": {},
     "output_type": "display_data"
    }
   ],
   "source": [
    "# Visualizing Min-max normalization\n",
    "\n",
    "import numpy as np\n",
    "import matplotlib.pyplot as plt\n",
    "\n",
    "a = np.array([3, 4, 5, 6, 7])\n",
    "x_norm = (a - a.min()) / (a.max() - a.min())\n",
    "\n",
    "plt.figure(figsize=(4, 3))\n",
    "plt.bar(np.arange(len(a)) - 0.2, a, width=0.4, label=\"Original\")\n",
    "plt.bar(np.arange(len(a)) + 0.2, x_norm, width=0.4, label=\"Normalized\")\n",
    "plt.xticks(np.arange(len(a)))\n",
    "plt.legend()\n",
    "plt.title(\"Min-Max Normalization\")\n",
    "plt.show()"
   ]
  },
  {
   "cell_type": "code",
   "execution_count": 30,
   "id": "32957b51",
   "metadata": {},
   "outputs": [
    {
     "data": {
      "image/png": "[encoded data removed]",
      "text/plain": [
       "<Figure size 400x300 with 1 Axes>"
      ]
     },
     "metadata": {},
     "output_type": "display_data"
    }
   ],
   "source": [
    "# Visualizing Z-score normalization (standardization)\n",
    "\n",
    "import numpy as np\n",
    "import matplotlib.pyplot as plt\n",
    "\n",
    "a = np.random.normal(loc=50, scale=10, size=1000)\n",
    "x_standardized = (a - a.mean()) / a.std()\n",
    "\n",
    "plt.figure(figsize=(4, 3))\n",
    "plt.hist(a, bins=30, alpha=0.5, label=\"Original\")\n",
    "plt.hist(x_standardized, bins=30, alpha=0.5, label=\"Standardized\")\n",
    "plt.legend()\n",
    "plt.title(\"Z-score Normalization (Histogram)\")\n",
    "plt.show()"
   ]
  },
  {
   "cell_type": "code",
   "execution_count": 31,
   "id": "f4a8f7c4",
   "metadata": {},
   "outputs": [
    {
     "data": {
      "image/png": "[encoded data removed]",
      "text/plain": [
       "<Figure size 400x300 with 1 Axes>"
      ]
     },
     "metadata": {},
     "output_type": "display_data"
    }
   ],
   "source": [
    "# Visualizing L2 normalization\n",
    "\n",
    "import numpy as np\n",
    "import matplotlib.pyplot as plt\n",
    "\n",
    "\n",
    "X = np.array([[3, 4], [1, 2], [5, 0]])\n",
    "\n",
    "X_norm = X / np.linalg.norm(X, axis=1, keepdims=True)\n",
    "\n",
    "\n",
    "plt.figure(figsize=(4, 3))\n",
    "plt.axhline(0, color=\"gray\", linestyle=\"--\")\n",
    "plt.axvline(0, color=\"gray\", linestyle=\"--\")\n",
    "\n",
    "for i in range(len(X)):\n",
    "    plt.arrow(\n",
    "        0,\n",
    "        0,\n",
    "        X[i, 0],\n",
    "        X[i, 1],\n",
    "        color=\"blue\",\n",
    "        head_width=0.2,\n",
    "        length_includes_head=True,\n",
    "        label=\"original\" if i == 0 else \"\",\n",
    "    )\n",
    "    plt.arrow(\n",
    "        0,\n",
    "        0,\n",
    "        X_norm[i, 0],\n",
    "        X_norm[i, 1],\n",
    "        color=\"red\",\n",
    "        head_width=0.2,\n",
    "        length_includes_head=True,\n",
    "        label=\"normalized\" if i == 0 else \"\",\n",
    "    )\n",
    "\n",
    "plt.legend()\n",
    "plt.title(\"L2 Normalization: Blue=Original, Red=Normalized\")\n",
    "plt.xlim(-6, 6)\n",
    "plt.ylim(-6, 6)\n",
    "plt.gca().set_aspect(\"equal\")\n",
    "plt.show()"
   ]
  },
  {
   "cell_type": "code",
   "execution_count": 32,
   "id": "677a0807",
   "metadata": {},
   "outputs": [
    {
     "data": {
      "image/png": "[encoded data removed]",
      "text/plain": [
       "<Figure size 400x300 with 1 Axes>"
      ]
     },
     "metadata": {},
     "output_type": "display_data"
    }
   ],
   "source": [
    "import numpy as np\n",
    "import matplotlib.pyplot as plt\n",
    "\n",
    "\n",
    "a = np.array([2.0, 1.0, 0.1])  # Raw logits\n",
    "\n",
    "\n",
    "# softmax\n",
    "def softmax(x):\n",
    "    e_x = np.exp(x - np.max(x))\n",
    "    return e_x / np.sum(e_x)\n",
    "\n",
    "\n",
    "y = softmax(a)\n",
    "\n",
    "plt.figure(figsize=(4, 3))\n",
    "bar_width = 0.35\n",
    "index = np.arange(len(a))\n",
    "\n",
    "plt.bar(index, a, bar_width, label=\"Raw scores\", alpha=0.5)\n",
    "plt.bar(\n",
    "    index + bar_width,\n",
    "    y,\n",
    "    bar_width,\n",
    "    label=f\"Softmax output (total={y.sum():.2f})\",\n",
    "    alpha=0.9,\n",
    ")\n",
    "\n",
    "plt.xticks(index + bar_width / 2, [f\"class {i}\" for i in range(len(a))])\n",
    "plt.ylabel(\"Value\")\n",
    "plt.title(\"Softmax Normalization: Raw vs Softmax\")\n",
    "plt.legend()\n",
    "plt.tight_layout()\n",
    "plt.show()"
   ]
  },
  {
   "cell_type": "code",
   "execution_count": 33,
   "id": "dacf95a3",
   "metadata": {},
   "outputs": [
    {
     "name": "stdout",
     "output_type": "stream",
     "text": [
      "['#1f77b4', '#ff7f0e', '#2ca02c', '#d62728', '#9467bd', '#8c564b', '#e377c2', '#7f7f7f', '#bcbd22', '#17becf']\n"
     ]
    },
    {
     "data": {
      "image/png": "[encoded data removed]",
      "text/plain": [
       "<Figure size 1000x100 with 1 Axes>"
      ]
     },
     "metadata": {},
     "output_type": "display_data"
    }
   ],
   "source": [
    "import matplotlib.pyplot as plt\n",
    "\n",
    "colors = plt.rcParams[\"axes.prop_cycle\"].by_key()[\"color\"]\n",
    "print(colors)\n",
    "\n",
    "# Create a bar chart showing the default colors\n",
    "plt.figure(figsize=(10, 1))\n",
    "bars = plt.bar(range(len(colors)), [1] * len(colors), color=colors, width=0.7)\n",
    "\n",
    "# Add color values as labels\n",
    "for i, (bar, color) in enumerate(zip(bars, colors)):\n",
    "    plt.text(\n",
    "        i,\n",
    "        0.5,\n",
    "        color,\n",
    "        ha=\"center\",\n",
    "        va=\"center\",\n",
    "        color=\"white\" if i in [0, 3, 4, 5, 7] else \"black\",\n",
    "        fontweight=\"bold\",\n",
    "    )\n",
    "\n",
    "plt.title(\"Matplotlib Default Color Cycle\")\n",
    "plt.xticks([])\n",
    "plt.yticks([])\n",
    "plt.ylim(0, 1)\n",
    "plt.tight_layout()"
   ]
  },
  {
   "cell_type": "markdown",
   "id": "fb34f8bd",
   "metadata": {},
   "source": [
    "#### 23. Create a custom dtype that describes a color as four unsigned bytes (RGBA) (★☆☆)"
   ]
  },
  {
   "cell_type": "code",
   "execution_count": 34,
   "id": "dd54188c",
   "metadata": {},
   "outputs": [
    {
     "name": "stdout",
     "output_type": "stream",
     "text": [
      "[255   0   0]\n",
      "[255 128   0]\n"
     ]
    }
   ],
   "source": [
    "color = np.dtype(\n",
    "    [\n",
    "        (\"r\", np.uint8),\n",
    "        (\"g\", np.uint8),\n",
    "        (\"b\", np.uint8),\n",
    "        (\"a\", np.uint8),\n",
    "    ]\n",
    ")\n",
    "\n",
    "pixels = np.array(\n",
    "    [\n",
    "        (255, 0, 0, 255),\n",
    "        (0, 255, 0, 128),\n",
    "        (0, 0, 255, 0),\n",
    "    ],\n",
    "    dtype=color,\n",
    ")\n",
    "\n",
    "print(pixels[\"r\"])\n",
    "print(pixels[\"a\"])"
   ]
  },
  {
   "cell_type": "markdown",
   "id": "994394f9",
   "metadata": {},
   "source": [
    "#### 24. Multiply a 5x3 matrix by a 3x2 matrix (real matrix product) (★☆☆)"
   ]
  },
  {
   "cell_type": "code",
   "execution_count": 35,
   "id": "2d9ff20d",
   "metadata": {},
   "outputs": [
    {
     "name": "stdout",
     "output_type": "stream",
     "text": [
      "[[ 0  1  2]\n",
      " [ 3  4  5]\n",
      " [ 6  7  8]\n",
      " [ 9 10 11]\n",
      " [12 13 14]]\n",
      "[[0 1]\n",
      " [2 3]\n",
      " [4 5]]\n",
      "[[ 10  13]\n",
      " [ 28  40]\n",
      " [ 46  67]\n",
      " [ 64  94]\n",
      " [ 82 121]]\n",
      "[[ 10  13]\n",
      " [ 28  40]\n",
      " [ 46  67]\n",
      " [ 64  94]\n",
      " [ 82 121]]\n"
     ]
    }
   ],
   "source": [
    "a = np.arange(15).reshape(5, 3)\n",
    "b = np.arange(6).reshape(3, 2)\n",
    "\n",
    "print(a)\n",
    "print(b)\n",
    "\n",
    "# Matrix multiplication\n",
    "c = np.matmul(a, b)\n",
    "print(c)\n",
    "\n",
    "# Matrix multiplication using @ operator\n",
    "d = a @ b\n",
    "print(d)"
   ]
  },
  {
   "cell_type": "markdown",
   "id": "5a731fb6",
   "metadata": {},
   "source": [
    "#### 25. Given a 1D array, negate all elements which are between 3 and 8, in place. (★☆☆)"
   ]
  },
  {
   "cell_type": "code",
   "execution_count": 36,
   "id": "29ea3c59",
   "metadata": {},
   "outputs": [
    {
     "name": "stdout",
     "output_type": "stream",
     "text": [
      "Original array a: [0 1 2 3 4 5 6 7 8 9]\n",
      "[False False False False  True  True  True  True False False]\n",
      "After applying mask and multiplying by -1: [ 0  1  2  3 -4 -5 -6 -7  8  9]\n"
     ]
    }
   ],
   "source": [
    "a = np.arange(10)\n",
    "print(\"Original array a:\", a)\n",
    "\n",
    "mask = (a > 3) & (a < 8)\n",
    "print(mask)\n",
    "\n",
    "# print(a > 3 and a < 8) # This will raise an error because 'and' cannot be used with arrays\n",
    "\n",
    "a[mask] *= -1\n",
    "print(\"After applying mask and multiplying by -1:\", a)"
   ]
  },
  {
   "cell_type": "markdown",
   "id": "83ea9847",
   "metadata": {},
   "source": [
    "#### 26. What is the output of the following script? (★☆☆)\n",
    "```python\n",
    "# Author: Jake VanderPlas\n",
    "\n",
    "print(sum(range(5),-1))\n",
    "from numpy import *\n",
    "print(sum(range(5),-1))\n",
    "```"
   ]
  },
  {
   "cell_type": "code",
   "execution_count": 37,
   "id": "c45cb5da",
   "metadata": {},
   "outputs": [
    {
     "name": "stdout",
     "output_type": "stream",
     "text": [
      "9\n"
     ]
    }
   ],
   "source": [
    "print(sum(range(5), -1))"
   ]
  },
  {
   "cell_type": "code",
   "execution_count": 38,
   "id": "8861110f",
   "metadata": {},
   "outputs": [
    {
     "name": "stdout",
     "output_type": "stream",
     "text": [
      "10\n"
     ]
    }
   ],
   "source": [
    "print(np.sum(range(5), -1))"
   ]
  },
  {
   "cell_type": "markdown",
   "id": "4a89e78a",
   "metadata": {},
   "source": [
    "#### 27. Consider an integer vector Z, which of these expressions are legal? (★☆☆)\n",
    "```python\n",
    "Z**Z\n",
    "2 << Z >> 2\n",
    "Z <- Z\n",
    "1j*Z\n",
    "Z/1/1\n",
    "Z<Z>Z\n",
    "```"
   ]
  },
  {
   "cell_type": "code",
   "execution_count": 39,
   "id": "ca714e0b",
   "metadata": {},
   "outputs": [
    {
     "name": "stdout",
     "output_type": "stream",
     "text": [
      "[-3 -2 -1  0  1  2  3]\n",
      "[-0.03703704  0.25       -1.          1.          1.          4.\n",
      " 27.        ]\n",
      "[0 0 0 0 1 2 4]\n",
      "[ True  True  True False False False False]\n",
      "[-0.-3.j -0.-2.j -0.-1.j  0.+0.j  0.+1.j  0.+2.j  0.+3.j]\n",
      "[-3. -2. -1.  0.  1.  2.  3.]\n",
      "[False False False False False False False]\n"
     ]
    }
   ],
   "source": [
    "Z = np.arange(-3, 4)\n",
    "print(Z)\n",
    "\n",
    "# print(Z**Z)  # ValueError: Integers to negative integer powers are not allowed.\n",
    "print(Z.astype(float) ** Z)\n",
    "\n",
    "print(2 << Z >> 2)\n",
    "\n",
    "print(Z < -Z)\n",
    "\n",
    "print(1j * Z)\n",
    "\n",
    "print(Z / 1 / 1)\n",
    "\n",
    "# print(Z < Z > Z)  # ValueError: The truth value of an array with more than one element is ambiguous. Use a.any() or a.all()\n",
    "print((Z < Z) & (Z > Z))  # This will return an array"
   ]
  },
  {
   "cell_type": "markdown",
   "id": "82faf0df",
   "metadata": {},
   "source": [
    "#### 28. What are the result of the following expressions? (★☆☆)\n",
    "```python\n",
    "np.array(0) / np.array(0)\n",
    "np.array(0) // np.array(0)\n",
    "np.array([np.nan]).astype(int).astype(float)\n",
    "```"
   ]
  },
  {
   "cell_type": "code",
   "execution_count": 40,
   "id": "144d8469",
   "metadata": {},
   "outputs": [
    {
     "name": "stdout",
     "output_type": "stream",
     "text": [
      "0\n",
      "nan\n",
      "0\n",
      "False\n",
      "True\n",
      "[nan]\n",
      "[-2147483648]\n",
      "[-2.14748365e+09]\n"
     ]
    },
    {
     "name": "stderr",
     "output_type": "stream",
     "text": [
      "C:\\Users\\zli\\AppData\\Local\\Temp\\ipykernel_20320\\179305949.py:3: RuntimeWarning: invalid value encountered in divide\n",
      "  print(np.array(0) / np.array(0))  # This will return nan and raise a RuntimeWarning\n",
      "C:\\Users\\zli\\AppData\\Local\\Temp\\ipykernel_20320\\179305949.py:5: RuntimeWarning: divide by zero encountered in floor_divide\n",
      "  print(np.array(0) // np.array(0))  # This will return 0 and raise a RuntimeWarning\n",
      "C:\\Users\\zli\\AppData\\Local\\Temp\\ipykernel_20320\\179305949.py:15: RuntimeWarning: invalid value encountered in cast\n",
      "  print(np.array([np.nan]).astype(int))  # [-2147483648]\n",
      "C:\\Users\\zli\\AppData\\Local\\Temp\\ipykernel_20320\\179305949.py:16: RuntimeWarning: invalid value encountered in cast\n",
      "  print(np.array([np.nan]).astype(int).astype(float))\n"
     ]
    }
   ],
   "source": [
    "print(np.array(0))\n",
    "\n",
    "print(np.array(0) / np.array(0))  # This will return nan and raise a RuntimeWarning\n",
    "\n",
    "print(np.array(0) // np.array(0))  # This will return 0 and raise a RuntimeWarning\n",
    "\n",
    "\n",
    "print(\n",
    "    np.nan == float(\"nan\")\n",
    ")  # This will return False, as NaN is not equal to itself by definition\n",
    "print(np.isnan(float(\"nan\")))  # This will return True\n",
    "\n",
    "print(np.array([np.nan]))  # This will create an array with a single NaN value\n",
    "\n",
    "print(np.array([np.nan]).astype(int))  # [-2147483648]\n",
    "print(np.array([np.nan]).astype(int).astype(float))"
   ]
  },
  {
   "cell_type": "markdown",
   "id": "5d8372f5",
   "metadata": {},
   "source": [
    "#### 29. How to round away from zero a float array ? (★☆☆)"
   ]
  },
  {
   "cell_type": "code",
   "execution_count": 41,
   "id": "7d4a0d11",
   "metadata": {},
   "outputs": [
    {
     "name": "stdout",
     "output_type": "stream",
     "text": [
      "[ 2.73956049 -0.6112156   3.5859792   1.97368029 -4.05822652  4.75622352\n",
      "  2.61139702  2.86064305 -3.71886367 -0.49614062]\n",
      "[ 3. -1.  4.  2. -5.  5.  3.  3. -4. -1.]\n",
      "[ 3. -1.  4.  2. -5.  5.  3.  3. -4. -1.]\n"
     ]
    }
   ],
   "source": [
    "rng = np.random.default_rng(seed=42)\n",
    "\n",
    "a = rng.uniform(-5, 5, 10)\n",
    "print(a)\n",
    "\n",
    "b = np.where(a > 0, np.ceil(a), np.floor(a))\n",
    "print(b)\n",
    "\n",
    "c = np.sign(a) * np.ceil(np.abs(a))\n",
    "print(c)"
   ]
  },
  {
   "cell_type": "markdown",
   "id": "5ecb650e",
   "metadata": {},
   "source": [
    "#### 30. How to find common values between two arrays? (★☆☆)"
   ]
  },
  {
   "cell_type": "code",
   "execution_count": 42,
   "id": "3bf6c2c7",
   "metadata": {},
   "outputs": [
    {
     "name": "stdout",
     "output_type": "stream",
     "text": [
      "{2, 3}\n",
      "[2 3]\n"
     ]
    }
   ],
   "source": [
    "a = np.array([1, 2, 3])\n",
    "b = np.array([5, 4, 3, 2])\n",
    "\n",
    "print(set(a) & set(b))  # Intersection of sets\n",
    "print(np.intersect1d(a, b))  # Using numpy's intersect1d, default to sorted order"
   ]
  },
  {
   "cell_type": "markdown",
   "id": "e9716ff1",
   "metadata": {},
   "source": [
    "#### 31. How to ignore all numpy warnings (not recommended)? (★☆☆)"
   ]
  },
  {
   "cell_type": "code",
   "execution_count": 43,
   "id": "5c1695fd",
   "metadata": {},
   "outputs": [
    {
     "name": "stdout",
     "output_type": "stream",
     "text": [
      "[nan inf inf]\n"
     ]
    }
   ],
   "source": [
    "# print(np.arange(3) / 0)\n",
    "\n",
    "with np.errstate(all=\"ignore\"):\n",
    "    print(np.arange(3) / 0)\n",
    "\n",
    "\n",
    "# np.seterr(divide='ignore', invalid='ignore')"
   ]
  },
  {
   "cell_type": "markdown",
   "id": "209e0fb1",
   "metadata": {},
   "source": [
    "#### 32. Is the following expressions true? (★☆☆)\n",
    "```python\n",
    "np.sqrt(-1) == np.emath.sqrt(-1)\n",
    "```"
   ]
  },
  {
   "cell_type": "code",
   "execution_count": 44,
   "id": "eb5d379d",
   "metadata": {},
   "outputs": [
    {
     "name": "stdout",
     "output_type": "stream",
     "text": [
      "nan\n",
      "1j\n",
      "False\n"
     ]
    },
    {
     "name": "stderr",
     "output_type": "stream",
     "text": [
      "C:\\Users\\zli\\AppData\\Local\\Temp\\ipykernel_20320\\1251884223.py:1: RuntimeWarning: invalid value encountered in sqrt\n",
      "  print(np.sqrt(-1))\n",
      "C:\\Users\\zli\\AppData\\Local\\Temp\\ipykernel_20320\\1251884223.py:3: RuntimeWarning: invalid value encountered in sqrt\n",
      "  print(np.sqrt(-1) == np.emath.sqrt(-1))\n"
     ]
    }
   ],
   "source": [
    "print(np.sqrt(-1))\n",
    "print(np.emath.sqrt(-1))\n",
    "print(np.sqrt(-1) == np.emath.sqrt(-1))"
   ]
  },
  {
   "cell_type": "markdown",
   "id": "19dd52e1",
   "metadata": {},
   "source": [
    "#### 33. How to get the dates of yesterday, today and tomorrow? (★☆☆)"
   ]
  },
  {
   "cell_type": "code",
   "execution_count": 45,
   "id": "54700cd1",
   "metadata": {},
   "outputs": [
    {
     "name": "stdout",
     "output_type": "stream",
     "text": [
      "2025-08-11T16:24:59\n",
      "2025-08-11\n",
      "2025-08-11\n",
      "Yesterday: 2025-08-10\n",
      "Today: 2025-08-11\n",
      "Tomorrow: 2025-08-12\n"
     ]
    }
   ],
   "source": [
    "print(np.datetime64(\"now\"))  # Current time in seconds\n",
    "print(np.datetime64(\"now\", \"D\"))  # Current date\n",
    "print(np.datetime64(\"today\"))  # Current date without time\n",
    "\n",
    "yesterday = np.datetime64(\"today\") - np.timedelta64(1)\n",
    "today = np.datetime64(\"today\")\n",
    "tomorrow = np.datetime64(\"today\") + np.timedelta64(1)\n",
    "print(\"Yesterday:\", yesterday)\n",
    "print(\"Today:\", today)\n",
    "print(\"Tomorrow:\", tomorrow)"
   ]
  },
  {
   "cell_type": "markdown",
   "id": "6ab977fe",
   "metadata": {},
   "source": [
    "#### 34. How to get all the dates corresponding to the month of July 2016? (★★☆)"
   ]
  },
  {
   "cell_type": "code",
   "execution_count": 46,
   "id": "2797bdea",
   "metadata": {},
   "outputs": [
    {
     "name": "stdout",
     "output_type": "stream",
     "text": [
      "['2016-07-01' '2016-07-02' '2016-07-03' '2016-07-04' '2016-07-05'\n",
      " '2016-07-06' '2016-07-07' '2016-07-08' '2016-07-09' '2016-07-10'\n",
      " '2016-07-11' '2016-07-12' '2016-07-13' '2016-07-14' '2016-07-15'\n",
      " '2016-07-16' '2016-07-17' '2016-07-18' '2016-07-19' '2016-07-20'\n",
      " '2016-07-21' '2016-07-22' '2016-07-23' '2016-07-24' '2016-07-25'\n",
      " '2016-07-26' '2016-07-27' '2016-07-28' '2016-07-29' '2016-07-30'\n",
      " '2016-07-31']\n",
      "['2016-07-01' '2016-07-02' '2016-07-03' '2016-07-04' '2016-07-05'\n",
      " '2016-07-06' '2016-07-07' '2016-07-08' '2016-07-09' '2016-07-10'\n",
      " '2016-07-11' '2016-07-12' '2016-07-13' '2016-07-14' '2016-07-15'\n",
      " '2016-07-16' '2016-07-17' '2016-07-18' '2016-07-19' '2016-07-20'\n",
      " '2016-07-21' '2016-07-22' '2016-07-23' '2016-07-24' '2016-07-25'\n",
      " '2016-07-26' '2016-07-27' '2016-07-28' '2016-07-29' '2016-07-30'\n",
      " '2016-07-31']\n",
      "['2016-07-01' '2016-07-03' '2016-07-05' '2016-07-07' '2016-07-09'\n",
      " '2016-07-11' '2016-07-13' '2016-07-15' '2016-07-17' '2016-07-19'\n",
      " '2016-07-21' '2016-07-23' '2016-07-25' '2016-07-27' '2016-07-29'\n",
      " '2016-07-31']\n"
     ]
    }
   ],
   "source": [
    "a = np.arange(\"2016-07\", \"2016-08\", dtype=\"datetime64[D]\")\n",
    "print(a)\n",
    "\n",
    "b = np.arange(\n",
    "    np.datetime64(\"2016-07\"),\n",
    "    np.datetime64(\"2016-08\"),\n",
    "    np.timedelta64(1, \"D\"),\n",
    ")\n",
    "print(b)\n",
    "\n",
    "c = np.arange(\n",
    "    np.datetime64(\"2016-07\"),\n",
    "    np.datetime64(\"2016-08\"),\n",
    "    np.timedelta64(2, \"D\"),\n",
    ")\n",
    "print(c)"
   ]
  },
  {
   "cell_type": "markdown",
   "id": "3b166e41",
   "metadata": {},
   "source": [
    "#### 35. How to compute ((A+B)*(-A/2)) in place (without copy)? (★★☆)"
   ]
  },
  {
   "cell_type": "code",
   "execution_count": 47,
   "id": "587e8468",
   "metadata": {},
   "outputs": [
    {
     "name": "stdout",
     "output_type": "stream",
     "text": [
      "[ -2.5  -7.  -13.5]\n"
     ]
    }
   ],
   "source": [
    "a = np.array([1.0, 2.0, 3.0])\n",
    "b = np.array([4.0, 5.0, 6.0])\n",
    "\n",
    "np.add(a, b, out=b)\n",
    "np.divide(a, 2, out=a)\n",
    "np.negative(a, out=a)\n",
    "np.multiply(a, b, out=a)\n",
    "\n",
    "print(a)"
   ]
  },
  {
   "cell_type": "markdown",
   "id": "7aa6856f",
   "metadata": {},
   "source": [
    "#### 36. Extract the integer part of a random array of positive numbers using 4 different methods (★★☆)"
   ]
  },
  {
   "cell_type": "code",
   "execution_count": 48,
   "id": "abe21b79",
   "metadata": {},
   "outputs": [
    {
     "name": "stdout",
     "output_type": "stream",
     "text": [
      "[7.73956049 4.3887844  8.5859792  6.97368029 0.94177348 9.75622352\n",
      " 7.61139702 7.86064305 1.28113633 4.50385938]\n",
      "[7. 4. 8. 6. 0. 9. 7. 7. 1. 4.]\n",
      "[7. 4. 8. 6. 0. 9. 7. 7. 1. 4.]\n",
      "[7 4 8 6 0 9 7 7 1 4]\n",
      "[7. 4. 8. 6. 0. 9. 7. 7. 1. 4.]\n",
      "[7. 4. 8. 6. 0. 9. 7. 7. 1. 4.]\n",
      "[7. 4. 8. 6. 0. 9. 7. 7. 1. 4.]\n"
     ]
    }
   ],
   "source": [
    "rng = np.random.default_rng(seed=42)\n",
    "\n",
    "a = rng.uniform(0, 10, 10)\n",
    "print(a)\n",
    "\n",
    "b = np.floor(a)\n",
    "print(b)\n",
    "\n",
    "c = a // 1\n",
    "print(c)\n",
    "\n",
    "d = a.astype(int)\n",
    "print(d)\n",
    "\n",
    "e = np.trunc(a)\n",
    "print(e)\n",
    "\n",
    "f = np.floor_divide(a, 1)\n",
    "print(f)\n",
    "\n",
    "g = np.fix(a)\n",
    "print(g)"
   ]
  },
  {
   "cell_type": "markdown",
   "id": "4cd5df9e",
   "metadata": {},
   "source": [
    "#### 37. Create a 5x5 matrix with row values ranging from 0 to 4 (★★☆)"
   ]
  },
  {
   "cell_type": "code",
   "execution_count": 49,
   "id": "68483cac",
   "metadata": {},
   "outputs": [
    {
     "name": "stdout",
     "output_type": "stream",
     "text": [
      "[[0 1 2 3 4]\n",
      " [0 1 2 3 4]\n",
      " [0 1 2 3 4]\n",
      " [0 1 2 3 4]\n",
      " [0 1 2 3 4]]\n",
      "[[0 1 2 3 4]\n",
      " [0 1 2 3 4]\n",
      " [0 1 2 3 4]\n",
      " [0 1 2 3 4]\n",
      " [0 1 2 3 4]]\n",
      "[[0 1 2 3 4]\n",
      " [0 1 2 3 4]\n",
      " [0 1 2 3 4]\n",
      " [0 1 2 3 4]\n",
      " [0 1 2 3 4]]\n",
      "[[0 1 2 3 4]\n",
      " [0 1 2 3 4]\n",
      " [0 1 2 3 4]\n",
      " [0 1 2 3 4]\n",
      " [0 1 2 3 4]]\n"
     ]
    }
   ],
   "source": [
    "a = np.arange(5) * np.ones((5, 1), dtype=int)\n",
    "print(a)\n",
    "\n",
    "b = np.tile(np.arange(5), (5, 1))\n",
    "print(b)\n",
    "\n",
    "c = np.repeat([np.arange(5)], 5, axis=0)\n",
    "print(c)\n",
    "\n",
    "d = np.arange(5) + np.zeros((5, 1), dtype=int)\n",
    "print(d)"
   ]
  },
  {
   "cell_type": "markdown",
   "id": "2303a063",
   "metadata": {},
   "source": [
    "#### 38. Consider a generator function that generates 10 integers and use it to build an array (★☆☆)"
   ]
  },
  {
   "cell_type": "code",
   "execution_count": 50,
   "id": "31e75b20",
   "metadata": {},
   "outputs": [
    {
     "name": "stdout",
     "output_type": "stream",
     "text": [
      "[1 5 4 3 3 6 1 5 2 1]\n"
     ]
    }
   ],
   "source": [
    "rng = np.random.default_rng(seed=42)\n",
    "\n",
    "\n",
    "def g(n=10):\n",
    "    for _ in range(n):\n",
    "        yield rng.integers(1, 7)\n",
    "\n",
    "\n",
    "a = np.fromiter(g(), dtype=int)\n",
    "print(a)"
   ]
  },
  {
   "cell_type": "markdown",
   "id": "9928a22d",
   "metadata": {},
   "source": [
    "#### 39. Create a vector of size 10 with values ranging from 0 to 1, both excluded (★★☆)"
   ]
  },
  {
   "cell_type": "code",
   "execution_count": 51,
   "id": "690650ae",
   "metadata": {},
   "outputs": [
    {
     "name": "stdout",
     "output_type": "stream",
     "text": [
      "[0.09090909 0.18181818 0.27272727 0.36363636 0.45454545 0.54545455\n",
      " 0.63636364 0.72727273 0.81818182 0.90909091]\n",
      "[0.09090909 0.18181818 0.27272727 0.36363636 0.45454545 0.54545455\n",
      " 0.63636364 0.72727273 0.81818182 0.90909091]\n",
      "[0.09090909 0.18181818 0.27272727 0.36363636 0.45454545 0.54545455\n",
      " 0.63636364 0.72727273 0.81818182 0.90909091]\n",
      "[0.09090909 0.18181818 0.27272727 0.36363636 0.45454545 0.54545455\n",
      " 0.63636364 0.72727273 0.81818182 0.90909091]\n"
     ]
    }
   ],
   "source": [
    "rng = np.random.default_rng(seed=42)\n",
    "n = 10\n",
    "\n",
    "a = rng.uniform(0, 1, size=n)\n",
    "# print(a)\n",
    "\n",
    "b = np.linspace(0, 1, n + 2)[1:-1]\n",
    "print(b)\n",
    "\n",
    "c = np.linspace(0, 1, n + 1, endpoint=False)[1:]\n",
    "print(c)\n",
    "\n",
    "d = np.linspace(1 / (n + 1), n / (n + 1), n)\n",
    "print(d)\n",
    "\n",
    "e = np.arange(1, n + 1) / (n + 1)\n",
    "print(e)"
   ]
  },
  {
   "cell_type": "markdown",
   "id": "a91c1b80",
   "metadata": {},
   "source": [
    "#### 40. Create a random vector of size 10 and sort it (★★☆)"
   ]
  },
  {
   "cell_type": "code",
   "execution_count": 55,
   "id": "6160bbee",
   "metadata": {},
   "outputs": [
    {
     "name": "stdout",
     "output_type": "stream",
     "text": [
      "Original array 'a':\n",
      "[0.77395605 0.43887844 0.85859792 0.69736803 0.09417735 0.97562235\n",
      " 0.7611397  0.78606431 0.12811363 0.45038594]\n",
      "\n",
      "Sorted array 'b':\n",
      "[0.09417735 0.12811363 0.43887844 0.45038594 0.69736803 0.7611397\n",
      " 0.77395605 0.78606431 0.85859792 0.97562235]\n",
      "\n",
      "Original array 'a' after `np.sort(a)` (unchanged):\n",
      "[0.77395605 0.43887844 0.85859792 0.69736803 0.09417735 0.97562235\n",
      " 0.7611397  0.78606431 0.12811363 0.45038594]\n",
      "\n",
      "Original array 'a' after `a.sort()` (changed):\n",
      "[0.09417735 0.12811363 0.43887844 0.45038594 0.69736803 0.7611397\n",
      " 0.77395605 0.78606431 0.85859792 0.97562235]\n"
     ]
    }
   ],
   "source": [
    "rng = np.random.default_rng(seed=42)\n",
    "n = 10\n",
    "\n",
    "a = rng.random(10)\n",
    "print(\"Original array 'a':\")\n",
    "print(a)\n",
    "\n",
    "b = np.sort(a)\n",
    "print(\"\\nSorted array 'b':\")\n",
    "print(b)\n",
    "\n",
    "print(\"\\nOriginal array 'a' after `np.sort(a)` (unchanged):\")\n",
    "print(a)\n",
    "\n",
    "a.sort()\n",
    "print(\"\\nOriginal array 'a' after `a.sort()` (changed):\")\n",
    "print(a)"
   ]
  },
  {
   "cell_type": "markdown",
   "id": "9a5f9f0b",
   "metadata": {},
   "source": [
    "#### 41. How to sum a small array faster than np.sum? (★★☆)"
   ]
  },
  {
   "cell_type": "code",
   "execution_count": null,
   "id": "e1c76973",
   "metadata": {},
   "outputs": [],
   "source": []
  },
  {
   "cell_type": "markdown",
   "id": "c6bc120a",
   "metadata": {},
   "source": [
    "#### 42. Consider two random arrays A and B, check if they are equal (★★☆)"
   ]
  },
  {
   "cell_type": "code",
   "execution_count": null,
   "id": "67ec5c40",
   "metadata": {},
   "outputs": [],
   "source": []
  },
  {
   "cell_type": "markdown",
   "id": "74db8c48",
   "metadata": {},
   "source": [
    "#### 43. Make an array immutable (read-only) (★★☆)"
   ]
  },
  {
   "cell_type": "code",
   "execution_count": null,
   "id": "6447f153",
   "metadata": {},
   "outputs": [],
   "source": []
  },
  {
   "cell_type": "markdown",
   "id": "4fb9ce13",
   "metadata": {},
   "source": [
    "#### 44. Consider a random 10x2 matrix representing cartesian coordinates, convert them to polar coordinates (★★☆)"
   ]
  },
  {
   "cell_type": "code",
   "execution_count": null,
   "id": "aaeaf576",
   "metadata": {},
   "outputs": [],
   "source": []
  },
  {
   "cell_type": "markdown",
   "id": "37c5334a",
   "metadata": {},
   "source": [
    "#### 45. Create random vector of size 10 and replace the maximum value by 0 (★★☆)"
   ]
  },
  {
   "cell_type": "code",
   "execution_count": null,
   "id": "42b3d7ee",
   "metadata": {},
   "outputs": [],
   "source": []
  },
  {
   "cell_type": "markdown",
   "id": "ead7ae29",
   "metadata": {},
   "source": [
    "#### 46. Create a structured array with `x` and `y` coordinates covering the [0,1]x[0,1] area (★★☆)"
   ]
  },
  {
   "cell_type": "code",
   "execution_count": null,
   "id": "15bfb04c",
   "metadata": {},
   "outputs": [],
   "source": []
  },
  {
   "cell_type": "markdown",
   "id": "04714254",
   "metadata": {},
   "source": [
    "#### 47. Given two arrays, X and Y, construct the Cauchy matrix C (Cij =1/(xi - yj)) (★★☆)"
   ]
  },
  {
   "cell_type": "code",
   "execution_count": null,
   "id": "a3a89934",
   "metadata": {},
   "outputs": [],
   "source": []
  },
  {
   "cell_type": "markdown",
   "id": "a366ea35",
   "metadata": {},
   "source": [
    "#### 48. Print the minimum and maximum representable values for each numpy scalar type (★★☆)"
   ]
  },
  {
   "cell_type": "code",
   "execution_count": null,
   "id": "3ac7a8c7",
   "metadata": {},
   "outputs": [],
   "source": []
  },
  {
   "cell_type": "markdown",
   "id": "aab9627d",
   "metadata": {},
   "source": [
    "#### 49. How to print all the values of an array? (★★☆)"
   ]
  },
  {
   "cell_type": "code",
   "execution_count": null,
   "id": "f67422c1",
   "metadata": {},
   "outputs": [],
   "source": []
  },
  {
   "cell_type": "markdown",
   "id": "24301faa",
   "metadata": {},
   "source": [
    "#### 50. How to find the closest value (to a given scalar) in a vector? (★★☆)"
   ]
  },
  {
   "cell_type": "code",
   "execution_count": null,
   "id": "b8d08688",
   "metadata": {},
   "outputs": [],
   "source": []
  },
  {
   "cell_type": "markdown",
   "id": "bee814d7",
   "metadata": {},
   "source": [
    "#### 51. Create a structured array representing a position (x,y) and a color (r,g,b) (★★☆)"
   ]
  },
  {
   "cell_type": "code",
   "execution_count": null,
   "id": "1233764e",
   "metadata": {},
   "outputs": [],
   "source": []
  },
  {
   "cell_type": "markdown",
   "id": "bd5ca106",
   "metadata": {},
   "source": [
    "#### 52. Consider a random vector with shape (100,2) representing coordinates, find point by point distances (★★☆)"
   ]
  },
  {
   "cell_type": "code",
   "execution_count": null,
   "id": "db9d4bab",
   "metadata": {},
   "outputs": [],
   "source": []
  },
  {
   "cell_type": "markdown",
   "id": "f181e29f",
   "metadata": {},
   "source": [
    "#### 53. How to convert a float (32 bits) array into an integer (32 bits) array in place?"
   ]
  },
  {
   "cell_type": "code",
   "execution_count": null,
   "id": "1a83fde7",
   "metadata": {},
   "outputs": [],
   "source": []
  },
  {
   "cell_type": "markdown",
   "id": "caf93fee",
   "metadata": {},
   "source": [
    "#### 54. How to read the following file? (★★☆)\n",
    "```\n",
    "1, 2, 3, 4, 5\n",
    "6,  ,  , 7, 8\n",
    " ,  , 9,10,11\n",
    "```"
   ]
  },
  {
   "cell_type": "code",
   "execution_count": null,
   "id": "99e4a6aa",
   "metadata": {},
   "outputs": [],
   "source": []
  },
  {
   "cell_type": "markdown",
   "id": "313e29ad",
   "metadata": {},
   "source": [
    "#### 55. What is the equivalent of enumerate for numpy arrays? (★★☆)"
   ]
  },
  {
   "cell_type": "code",
   "execution_count": null,
   "id": "eb83cfe9",
   "metadata": {},
   "outputs": [],
   "source": []
  },
  {
   "cell_type": "markdown",
   "id": "afbc0388",
   "metadata": {},
   "source": [
    "#### 56. Generate a generic 2D Gaussian-like array (★★☆)"
   ]
  },
  {
   "cell_type": "code",
   "execution_count": null,
   "id": "08d16a2d",
   "metadata": {},
   "outputs": [],
   "source": []
  },
  {
   "cell_type": "markdown",
   "id": "a5f36451",
   "metadata": {},
   "source": [
    "#### 57. How to randomly place p elements in a 2D array? (★★☆)"
   ]
  },
  {
   "cell_type": "code",
   "execution_count": null,
   "id": "fedc4a6b",
   "metadata": {},
   "outputs": [],
   "source": []
  },
  {
   "cell_type": "markdown",
   "id": "f01595dd",
   "metadata": {},
   "source": [
    "#### 58. Subtract the mean of each row of a matrix (★★☆)"
   ]
  },
  {
   "cell_type": "code",
   "execution_count": null,
   "id": "d10b826c",
   "metadata": {},
   "outputs": [],
   "source": []
  },
  {
   "cell_type": "markdown",
   "id": "79fc19d5",
   "metadata": {},
   "source": [
    "#### 59. How to sort an array by the nth column? (★★☆)"
   ]
  },
  {
   "cell_type": "code",
   "execution_count": null,
   "id": "6125ebf1",
   "metadata": {},
   "outputs": [],
   "source": []
  },
  {
   "cell_type": "markdown",
   "id": "d2bc1039",
   "metadata": {},
   "source": [
    "#### 60. How to tell if a given 2D array has null columns? (★★☆)"
   ]
  },
  {
   "cell_type": "code",
   "execution_count": null,
   "id": "df834050",
   "metadata": {},
   "outputs": [],
   "source": []
  },
  {
   "cell_type": "markdown",
   "id": "ef5e08e3",
   "metadata": {},
   "source": [
    "#### 61. Find the nearest value from a given value in an array (★★☆)"
   ]
  },
  {
   "cell_type": "code",
   "execution_count": null,
   "id": "649e33f5",
   "metadata": {},
   "outputs": [],
   "source": []
  },
  {
   "cell_type": "markdown",
   "id": "54748a5f",
   "metadata": {},
   "source": [
    "#### 62. Considering two arrays with shape (1,3) and (3,1), how to compute their sum using an iterator? (★★☆)"
   ]
  },
  {
   "cell_type": "code",
   "execution_count": null,
   "id": "62dadc8f",
   "metadata": {},
   "outputs": [],
   "source": []
  },
  {
   "cell_type": "markdown",
   "id": "05086df5",
   "metadata": {},
   "source": [
    "#### 63. Create an array class that has a name attribute (★★☆)"
   ]
  },
  {
   "cell_type": "code",
   "execution_count": null,
   "id": "886eb2c2",
   "metadata": {},
   "outputs": [],
   "source": []
  },
  {
   "cell_type": "markdown",
   "id": "295a439e",
   "metadata": {},
   "source": [
    "#### 64. Consider a given vector, how to add 1 to each element indexed by a second vector (be careful with repeated indices)? (★★★)"
   ]
  },
  {
   "cell_type": "code",
   "execution_count": null,
   "id": "939182d1",
   "metadata": {},
   "outputs": [],
   "source": []
  },
  {
   "cell_type": "markdown",
   "id": "c58fa96a",
   "metadata": {},
   "source": [
    "#### 65. How to accumulate elements of a vector (X) to an array (F) based on an index list (I)? (★★★)"
   ]
  },
  {
   "cell_type": "code",
   "execution_count": null,
   "id": "5e9501fd",
   "metadata": {},
   "outputs": [],
   "source": []
  },
  {
   "cell_type": "markdown",
   "id": "e4e8e8e4",
   "metadata": {},
   "source": [
    "#### 66. Considering a (w,h,3) image of (dtype=ubyte), compute the number of unique colors (★★☆)"
   ]
  },
  {
   "cell_type": "code",
   "execution_count": null,
   "id": "010d667b",
   "metadata": {},
   "outputs": [],
   "source": []
  },
  {
   "cell_type": "markdown",
   "id": "e570693d",
   "metadata": {},
   "source": [
    "#### 67. Considering a four dimensions array, how to get sum over the last two axis at once? (★★★)"
   ]
  },
  {
   "cell_type": "code",
   "execution_count": null,
   "id": "c0664841",
   "metadata": {},
   "outputs": [],
   "source": []
  },
  {
   "cell_type": "markdown",
   "id": "84cb309a",
   "metadata": {},
   "source": [
    "#### 68. Considering a one-dimensional vector D, how to compute means of subsets of D using a vector S of same size describing subset  indices? (★★★)"
   ]
  },
  {
   "cell_type": "code",
   "execution_count": null,
   "id": "b195cbad",
   "metadata": {},
   "outputs": [],
   "source": []
  },
  {
   "cell_type": "markdown",
   "id": "260d1e78",
   "metadata": {},
   "source": [
    "#### 69. How to get the diagonal of a dot product? (★★★)"
   ]
  },
  {
   "cell_type": "code",
   "execution_count": null,
   "id": "cbd9000a",
   "metadata": {},
   "outputs": [],
   "source": []
  },
  {
   "cell_type": "markdown",
   "id": "5bbd1cb7",
   "metadata": {},
   "source": [
    "#### 70. Consider the vector [1, 2, 3, 4, 5], how to build a new vector with 3 consecutive zeros interleaved between each value? (★★★)"
   ]
  },
  {
   "cell_type": "code",
   "execution_count": null,
   "id": "5009a44e",
   "metadata": {},
   "outputs": [],
   "source": []
  },
  {
   "cell_type": "markdown",
   "id": "2cec7d52",
   "metadata": {},
   "source": [
    "#### 71. Consider an array of dimension (5,5,3), how to multiply it by an array with dimensions (5,5)? (★★★)"
   ]
  },
  {
   "cell_type": "code",
   "execution_count": null,
   "id": "4d1b3726",
   "metadata": {},
   "outputs": [],
   "source": []
  },
  {
   "cell_type": "markdown",
   "id": "0f6c1f21",
   "metadata": {},
   "source": [
    "#### 72. How to swap two rows of an array? (★★★)"
   ]
  },
  {
   "cell_type": "code",
   "execution_count": null,
   "id": "39bc734a",
   "metadata": {},
   "outputs": [],
   "source": []
  },
  {
   "cell_type": "markdown",
   "id": "608cc923",
   "metadata": {},
   "source": [
    "#### 73. Consider a set of 10 triplets describing 10 triangles (with shared vertices), find the set of unique line segments composing all the  triangles (★★★)"
   ]
  },
  {
   "cell_type": "code",
   "execution_count": null,
   "id": "6517ff0a",
   "metadata": {},
   "outputs": [],
   "source": []
  },
  {
   "cell_type": "markdown",
   "id": "409cd96d",
   "metadata": {},
   "source": [
    "#### 74. Given a sorted array C that corresponds to a bincount, how to produce an array A such that np.bincount(A) == C? (★★★)"
   ]
  },
  {
   "cell_type": "code",
   "execution_count": null,
   "id": "ff1c3743",
   "metadata": {},
   "outputs": [],
   "source": []
  },
  {
   "cell_type": "markdown",
   "id": "8ae9dd35",
   "metadata": {},
   "source": [
    "#### 75. How to compute averages using a sliding window over an array? (★★★)"
   ]
  },
  {
   "cell_type": "code",
   "execution_count": null,
   "id": "a788e685",
   "metadata": {},
   "outputs": [],
   "source": []
  },
  {
   "cell_type": "markdown",
   "id": "86660d23",
   "metadata": {},
   "source": [
    "#### 76. Consider a one-dimensional array Z, build a two-dimensional array whose first row is (Z[0],Z[1],Z[2]) and each subsequent row is  shifted by 1 (last row should be (Z[-3],Z[-2],Z[-1]) (★★★)"
   ]
  },
  {
   "cell_type": "code",
   "execution_count": null,
   "id": "ca693943",
   "metadata": {},
   "outputs": [],
   "source": []
  },
  {
   "cell_type": "markdown",
   "id": "813c11f3",
   "metadata": {},
   "source": [
    "#### 77. How to negate a boolean, or to change the sign of a float inplace? (★★★)"
   ]
  },
  {
   "cell_type": "code",
   "execution_count": null,
   "id": "55bc377a",
   "metadata": {},
   "outputs": [],
   "source": []
  },
  {
   "cell_type": "markdown",
   "id": "94d7fea5",
   "metadata": {},
   "source": [
    "#### 78. Consider 2 sets of points P0,P1 describing lines (2d) and a point p, how to compute distance from p to each line i (P0[i],P1[i])? (★★★)"
   ]
  },
  {
   "cell_type": "code",
   "execution_count": null,
   "id": "a32e3946",
   "metadata": {},
   "outputs": [],
   "source": []
  },
  {
   "cell_type": "markdown",
   "id": "1c4bfd47",
   "metadata": {},
   "source": [
    "#### 79. Consider 2 sets of points P0,P1 describing lines (2d) and a set of points P, how to compute distance from each point j (P[j]) to each line i (P0[i],P1[i])? (★★★)"
   ]
  },
  {
   "cell_type": "code",
   "execution_count": null,
   "id": "2a2034d3",
   "metadata": {},
   "outputs": [],
   "source": []
  },
  {
   "cell_type": "markdown",
   "id": "ac4b4663",
   "metadata": {},
   "source": [
    "#### 80. Consider an arbitrary array, write a function that extracts a subpart with a fixed shape and centered on a given element (pad with a `fill` value when necessary) (★★★)"
   ]
  },
  {
   "cell_type": "code",
   "execution_count": null,
   "id": "f8e96c9f",
   "metadata": {},
   "outputs": [],
   "source": []
  },
  {
   "cell_type": "markdown",
   "id": "6c707f01",
   "metadata": {},
   "source": [
    "#### 81. Consider an array Z = [1,2,3,4,5,6,7,8,9,10,11,12,13,14], how to generate an array R = [[1,2,3,4], [2,3,4,5], [3,4,5,6], ..., [11,12,13,14]]? (★★★)"
   ]
  },
  {
   "cell_type": "code",
   "execution_count": null,
   "id": "88375e14",
   "metadata": {},
   "outputs": [],
   "source": []
  },
  {
   "cell_type": "markdown",
   "id": "916fb9d0",
   "metadata": {},
   "source": [
    "#### 82. Compute a matrix rank (★★★)"
   ]
  },
  {
   "cell_type": "code",
   "execution_count": null,
   "id": "f1ce449f",
   "metadata": {},
   "outputs": [],
   "source": []
  },
  {
   "cell_type": "markdown",
   "id": "ce9507fb",
   "metadata": {},
   "source": [
    "#### 83. How to find the most frequent value in an array?"
   ]
  },
  {
   "cell_type": "code",
   "execution_count": null,
   "id": "b34c4456",
   "metadata": {},
   "outputs": [],
   "source": []
  },
  {
   "cell_type": "markdown",
   "id": "fc740f53",
   "metadata": {},
   "source": [
    "#### 84. Extract all the contiguous 3x3 blocks from a random 10x10 matrix (★★★)"
   ]
  },
  {
   "cell_type": "code",
   "execution_count": null,
   "id": "5de53fc3",
   "metadata": {},
   "outputs": [],
   "source": []
  },
  {
   "cell_type": "markdown",
   "id": "a90cb3a0",
   "metadata": {},
   "source": [
    "#### 85. Create a 2D array subclass such that Z[i,j] == Z[j,i] (★★★)"
   ]
  },
  {
   "cell_type": "code",
   "execution_count": null,
   "id": "92bbc1b0",
   "metadata": {},
   "outputs": [],
   "source": []
  },
  {
   "cell_type": "markdown",
   "id": "4d82f3ea",
   "metadata": {},
   "source": [
    "#### 86. Consider a set of p matrices with shape (n,n) and a set of p vectors with shape (n,1). How to compute the sum of of the p matrix products at once? (result has shape (n,1)) (★★★)"
   ]
  },
  {
   "cell_type": "code",
   "execution_count": null,
   "id": "c725b5e4",
   "metadata": {},
   "outputs": [],
   "source": []
  },
  {
   "cell_type": "markdown",
   "id": "c0e52424",
   "metadata": {},
   "source": [
    "#### 87. Consider a 16x16 array, how to get the block-sum (block size is 4x4)? (★★★)"
   ]
  },
  {
   "cell_type": "code",
   "execution_count": null,
   "id": "aaea8fc4",
   "metadata": {},
   "outputs": [],
   "source": []
  },
  {
   "cell_type": "markdown",
   "id": "8bc163f7",
   "metadata": {},
   "source": [
    "#### 88. How to implement the Game of Life using numpy arrays? (★★★)"
   ]
  },
  {
   "cell_type": "code",
   "execution_count": null,
   "id": "79bf2b8c",
   "metadata": {},
   "outputs": [],
   "source": []
  },
  {
   "cell_type": "markdown",
   "id": "84cce5b7",
   "metadata": {},
   "source": [
    "#### 89. How to get the n largest values of an array (★★★)"
   ]
  },
  {
   "cell_type": "code",
   "execution_count": null,
   "id": "b1fbef31",
   "metadata": {},
   "outputs": [],
   "source": []
  },
  {
   "cell_type": "markdown",
   "id": "a42571ab",
   "metadata": {},
   "source": [
    "#### 90. Given an arbitrary number of vectors, build the cartesian product (every combination of every item) (★★★)"
   ]
  },
  {
   "cell_type": "code",
   "execution_count": null,
   "id": "bc4c7ca8",
   "metadata": {},
   "outputs": [],
   "source": []
  },
  {
   "cell_type": "markdown",
   "id": "3c03f52d",
   "metadata": {},
   "source": [
    "#### 91. How to create a record array from a regular array? (★★★)"
   ]
  },
  {
   "cell_type": "code",
   "execution_count": null,
   "id": "7c76a563",
   "metadata": {},
   "outputs": [],
   "source": []
  },
  {
   "cell_type": "markdown",
   "id": "17e43110",
   "metadata": {},
   "source": [
    "#### 92. Consider a large vector Z, compute Z to the power of 3 using 3 different methods (★★★)"
   ]
  },
  {
   "cell_type": "code",
   "execution_count": null,
   "id": "59bf60f0",
   "metadata": {},
   "outputs": [],
   "source": []
  },
  {
   "cell_type": "markdown",
   "id": "f836890f",
   "metadata": {},
   "source": [
    "#### 93. Consider two arrays A and B of shape (8,3) and (2,2). How to find rows of A that contain elements of each row of B regardless of the order of the elements in B? (★★★)"
   ]
  },
  {
   "cell_type": "code",
   "execution_count": null,
   "id": "05923fb8",
   "metadata": {},
   "outputs": [],
   "source": []
  },
  {
   "cell_type": "markdown",
   "id": "02536dad",
   "metadata": {},
   "source": [
    "#### 94. Considering a 10x3 matrix, extract rows with unequal values (e.g. [2,2,3]) (★★★)"
   ]
  },
  {
   "cell_type": "code",
   "execution_count": null,
   "id": "042b6211",
   "metadata": {},
   "outputs": [],
   "source": []
  },
  {
   "cell_type": "markdown",
   "id": "f078fcff",
   "metadata": {},
   "source": [
    "#### 95. Convert a vector of ints into a matrix binary representation (★★★)"
   ]
  },
  {
   "cell_type": "code",
   "execution_count": null,
   "id": "981397ea",
   "metadata": {},
   "outputs": [],
   "source": []
  },
  {
   "cell_type": "markdown",
   "id": "4b9ddebe",
   "metadata": {},
   "source": [
    "#### 96. Given a two dimensional array, how to extract unique rows? (★★★)"
   ]
  },
  {
   "cell_type": "code",
   "execution_count": null,
   "id": "d479c161",
   "metadata": {},
   "outputs": [],
   "source": []
  },
  {
   "cell_type": "markdown",
   "id": "055b5e24",
   "metadata": {},
   "source": [
    "#### 97. Considering 2 vectors A & B, write the einsum equivalent of inner, outer, sum, and mul function (★★★)"
   ]
  },
  {
   "cell_type": "code",
   "execution_count": null,
   "id": "1c63d2d4",
   "metadata": {},
   "outputs": [],
   "source": []
  },
  {
   "cell_type": "markdown",
   "id": "e095f698",
   "metadata": {},
   "source": [
    "#### 98. Considering a path described by two vectors (X,Y), how to sample it using equidistant samples (★★★)?"
   ]
  },
  {
   "cell_type": "code",
   "execution_count": null,
   "id": "70b055e2",
   "metadata": {},
   "outputs": [],
   "source": []
  },
  {
   "cell_type": "markdown",
   "id": "12267853",
   "metadata": {},
   "source": [
    "#### 99. Given an integer n and a 2D array X, select from X the rows which can be interpreted as draws from a multinomial distribution with n degrees, i.e., the rows which only contain integers and which sum to n. (★★★)"
   ]
  },
  {
   "cell_type": "code",
   "execution_count": null,
   "id": "30199795",
   "metadata": {},
   "outputs": [],
   "source": []
  },
  {
   "cell_type": "markdown",
   "id": "1295c653",
   "metadata": {},
   "source": [
    "#### 100. Compute bootstrapped 95% confidence intervals for the mean of a 1D array X (i.e., resample the elements of an array with replacement N times, compute the mean of each sample, and then compute percentiles over the means). (★★★)"
   ]
  },
  {
   "cell_type": "code",
   "execution_count": null,
   "id": "f264d507",
   "metadata": {},
   "outputs": [],
   "source": []
  }
 ],
 "metadata": {
  "kernelspec": {
   "display_name": "data",
   "language": "python",
   "name": "python3"
  },
  "language_info": {
   "codemirror_mode": {
    "name": "ipython",
    "version": 3
   },
   "file_extension": ".py",
   "mimetype": "text/x-python",
   "name": "python",
   "nbconvert_exporter": "python",
   "pygments_lexer": "ipython3",
   "version": "3.12.7"
  }
 },
 "nbformat": 4,
 "nbformat_minor": 5
}
